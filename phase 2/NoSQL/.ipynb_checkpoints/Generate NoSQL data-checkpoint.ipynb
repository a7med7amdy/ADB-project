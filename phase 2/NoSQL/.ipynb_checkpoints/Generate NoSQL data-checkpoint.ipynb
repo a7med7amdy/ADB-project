{
 "cells": [
  {
   "cell_type": "code",
   "execution_count": 1,
   "metadata": {},
   "outputs": [],
   "source": [
    "import json\n",
    "from io import StringIO\n",
    "import pymongo"
   ]
  },
  {
   "cell_type": "code",
   "execution_count": 14,
   "metadata": {},
   "outputs": [],
   "source": [
    "myclient = pymongo.MongoClient(\"mongodb://localhost:27017/\")\n",
    "mydb = myclient[\"test\"]"
   ]
  },
  {
   "cell_type": "code",
   "execution_count": 15,
   "metadata": {},
   "outputs": [],
   "source": [
    "mycol = mydb[\"Branch\"]\n",
    "for i in range(1,101):\n",
    "    jsonRecord = {\"Branch_id\":str(i), \"Name\":\"branch_\"+str(i), \"Address\": \"cairo,stree \"+str(i), \"Bank_code\":str(i)}\n",
    "    x = mycol.insert_one(jsonRecord)"
   ]
  },
  {
   "cell_type": "code",
   "execution_count": 16,
   "metadata": {},
   "outputs": [],
   "source": [
    "#{\"Bank_code\": \"1\", \"Address\": \"cairo,street 1\", \"Name\": \"bank_1\"}\n",
    "mycol = mydb[\"Bank\"]\n",
    "for i in range(1,101):\n",
    "    jsonRecord = {\"Bank_code\":str(i), \"Address\":\"cairo,stree \"+str(i), \"Name\":\"bank_\"+str(i)}\n",
    "    x = mycol.insert_one(jsonRecord)"
   ]
  },
  {
   "cell_type": "code",
   "execution_count": 17,
   "metadata": {},
   "outputs": [],
   "source": [
    "#{\"Customer_ID\": \"1\", \"Name\": \"Ahmed_1\", \"Phone Number\": \"1\", \"Address\": \"Giza,street1\"}\n",
    "mycol = mydb[\"Customer\"]\n",
    "for i in range(1,101):\n",
    "    jsonRecord = {\"Customer_ID\":str(i), \"Name\":\"Ahmed_\"+str(i), \"Phone Number\":str(i), \"Address\":\"Giza,street\"+str(i)}\n",
    "    x = mycol.insert_one(jsonRecord)"
   ]
  },
  {
   "cell_type": "code",
   "execution_count": 18,
   "metadata": {},
   "outputs": [],
   "source": [
    "#{\"Loan_no\": \"1\", \"Cust_no\": \"1\"}\n",
    "mycol = mydb[\"Availed_by\"]\n",
    "for i in range(1,101):\n",
    "    jsonRecord = {\"Loan_no\":str(i), \"Cust_no\":str(i)}\n",
    "    x = mycol.insert_one(jsonRecord)"
   ]
  },
  {
   "cell_type": "code",
   "execution_count": 19,
   "metadata": {},
   "outputs": [],
   "source": [
    "#{\"Acc_No\": \"1\", \"Cust_no\": \"1\"}\n",
    "mycol = mydb[\"Hold_by\"]\n",
    "for i in range(1,101):\n",
    "    jsonRecord = {\"Acc_no\":str(i), \"Cust_no\":str(i)}\n",
    "    x = mycol.insert_one(jsonRecord)"
   ]
  },
  {
   "cell_type": "code",
   "execution_count": 20,
   "metadata": {},
   "outputs": [],
   "source": [
    "#{\"Loan_id\": \"1\", \"Loan_type\": \"1\", \"Amount\": \"1\", \"Bno\": \"1\"}\n",
    "mycol = mydb[\"Loan\"]\n",
    "for i in range(1,101):\n",
    "    jsonRecord = {\"Loan_id\":str(i), \"Loan_type\":str(i%2), \"Amount\":str(i), \"Bno\":str(i)}\n",
    "    x = mycol.insert_one(jsonRecord)"
   ]
  },
  {
   "cell_type": "code",
   "execution_count": 21,
   "metadata": {},
   "outputs": [],
   "source": [
    "#{\"Account_No\": \"1\", \"Acc_Type\": \"1\", \"Balance\": \"1\", \"Bno\": \"1\"}\n",
    "mycol = mydb[\"Account\"]\n",
    "for i in range(1,101):\n",
    "    jsonRecord = {\"Account_No\":str(i), \"Acc_Type\":str(i%2), \"Balance\":str(i), \"Bno\":str(i)}\n",
    "    x = mycol.insert_one(jsonRecord)"
   ]
  }
 ],
 "metadata": {
  "kernelspec": {
   "display_name": "Python 3",
   "language": "python",
   "name": "python3"
  },
  "language_info": {
   "codemirror_mode": {
    "name": "ipython",
    "version": 3
   },
   "file_extension": ".py",
   "mimetype": "text/x-python",
   "name": "python",
   "nbconvert_exporter": "python",
   "pygments_lexer": "ipython3",
   "version": "3.7.3"
  }
 },
 "nbformat": 4,
 "nbformat_minor": 4
}
