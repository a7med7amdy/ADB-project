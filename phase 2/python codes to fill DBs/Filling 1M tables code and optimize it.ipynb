{
 "cells": [
  {
   "cell_type": "code",
   "execution_count": 4,
   "metadata": {},
   "outputs": [],
   "source": [
    "import mysql.connector\n",
    "\n",
    "mydb = mysql.connector.connect(\n",
    "  host=\"localhost\",\n",
    "  user=\"root\",\n",
    "  password=\"01021592414ahmed\",\n",
    "  database=\"Testing_project\"\n",
    ")\n",
    "\n",
    "#mycursor=mydb.cursor(\"show databases\")\n",
    "# for i in mycursor:\n",
    "#     print(i)\n",
    "mycursor=mydb.cursor()\n",
    "#mycursor.execute(\"show databases\")\n",
    "#mycursor.execute(\"insert into bank (Bank_code,Address,Name) values (1,'fdfd54','ajkgg'),(2,'fdfd54','ajkgg'),(3,'fdfd54','ajkgg')\")\n",
    "#mydb.commit()\n",
    "#for i in mycursor:\n",
    " #    print(i)\n",
    "\n",
    "#--------------- bank table insertion ---------------------------\n",
    "query=\"insert into bank (Bank_code,Address,Name) values \"\n",
    "for i in range(1,1000001):\n",
    "    query+=\"(\"+str(i)+\", 'cairo,street \"+str(i)+\"', 'bank_\"+str(i)+\"')\"\n",
    "    if i!=1000000:\n",
    "        query+=\",\"\n",
    "mycursor.execute(query)\n",
    "mydb.commit()\n"
   ]
  },
  {
   "cell_type": "code",
   "execution_count": 5,
   "metadata": {},
   "outputs": [],
   "source": [
    "#--------------- branch table insertion ---------------------------\n",
    "query=\"insert into branch values \"\n",
    "for i in range(1,1000001):\n",
    "    query+=\"(\"+str(i)+\", 'branch_\"+str(i)+\"', 'cairo,street \"+str(i)+\"',\"+str(i)+\")\"\n",
    "    if i!=1000000:\n",
    "        query+=\",\"\n",
    "mycursor.execute(query)\n",
    "mydb.commit()\n",
    "#print(query)"
   ]
  },
  {
   "cell_type": "code",
   "execution_count": 6,
   "metadata": {},
   "outputs": [],
   "source": [
    "#--------------- Loan table insertion ---------------------------\n",
    "query=\"insert into Loan values \"\n",
    "for i in range(1,1000001):\n",
    "    query+=\"(\"+str(i)+\", \"+str(i%2)+\", \"+str(i)+\", \"+str(i)+\")\"\n",
    "    if i!=1000000:\n",
    "        query+=\",\"\n",
    "mycursor.execute(query)\n",
    "mydb.commit()\n",
    "#print(query)"
   ]
  },
  {
   "cell_type": "code",
   "execution_count": 7,
   "metadata": {},
   "outputs": [],
   "source": [
    "#--------------- Account table insertion ---------------------------\n",
    "query=\"insert into Account values \"\n",
    "for i in range(1,1000001):\n",
    "    query+=\"(\"+str(i)+\", \"+str(i%2)+\", \"+str(i)+\", \"+str(i)+\")\"\n",
    "    if i!=1000000:\n",
    "        query+=\",\"\n",
    "mycursor.execute(query)\n",
    "mydb.commit()\n",
    "#print(query)"
   ]
  },
  {
   "cell_type": "code",
   "execution_count": 8,
   "metadata": {},
   "outputs": [],
   "source": [
    "#--------------- customer table insertion ---------------------------\n",
    "query=\"insert into customer values \"\n",
    "for i in range(1,1000001):\n",
    "    query+=\"(\"+str(i)+\", 'Ahmed_\"+str(i)+\"',\"+str(i)+\", 'Giza,street\"+str(i)+\"')\"\n",
    "    if i!=1000000:\n",
    "        query+=\",\"\n",
    "mycursor.execute(query)\n",
    "mydb.commit()\n",
    "#print(query)"
   ]
  },
  {
   "cell_type": "code",
   "execution_count": 9,
   "metadata": {},
   "outputs": [],
   "source": [
    "#--------------- Hold_by table insertion ---------------------------\n",
    "query=\"insert into Hold_by values \"\n",
    "for i in range(1,1000001):\n",
    "    query+=\"(\"+str(i)+\", \"+str(i)+\")\"\n",
    "    if i!=1000000:\n",
    "        query+=\",\"\n",
    "mycursor.execute(query)\n",
    "mydb.commit()\n",
    "#print(query)"
   ]
  },
  {
   "cell_type": "code",
   "execution_count": 10,
   "metadata": {},
   "outputs": [],
   "source": [
    "#--------------- Availed_by table insertion ---------------------------\n",
    "query=\"insert into Availed_by values \"\n",
    "for i in range(1,1000001):\n",
    "    query+=\"(\"+str(i)+\", \"+str(i)+\")\"\n",
    "    if i!=1000000:\n",
    "        query+=\",\"\n",
    "mycursor.execute(query)\n",
    "mydb.commit()\n",
    "#print(query)"
   ]
  },
  {
   "cell_type": "code",
   "execution_count": null,
   "metadata": {},
   "outputs": [],
   "source": []
  },
  {
   "cell_type": "code",
   "execution_count": null,
   "metadata": {},
   "outputs": [],
   "source": []
  },
  {
   "cell_type": "code",
   "execution_count": 63,
   "metadata": {},
   "outputs": [],
   "source": [
    "import mysql.connector\n",
    "from time import time\n",
    "\n",
    "mydb = mysql.connector.connect(\n",
    "  host=\"localhost\",\n",
    "  user=\"root\",\n",
    "  password=\"01021592414ahmed\",\n",
    "  database=\"Testing_project\"\n",
    ")\n",
    "mycursor=mydb.cursor()"
   ]
  },
  {
   "cell_type": "code",
   "execution_count": 12,
   "metadata": {},
   "outputs": [
    {
     "name": "stdout",
     "output_type": "stream",
     "text": [
      "0.0028917789459228516\n",
      "0.002023935317993164\n"
     ]
    }
   ],
   "source": [
    "mycursor.reset()\n",
    "\n",
    "query1='''select SQL_NO_CACHE * from bank b CROSS JOIN branch h \n",
    "CROSS join Account a where b.Bank_code=h.Bank_code and a.Bno=h.Branch_id;'''\n",
    "\n",
    "query2='''select  SQL_NO_CACHE * from Account a  \n",
    "INNER JOIN branch h on a.Bno=h.Branch_id \n",
    "INNER JOIN bank b on b.Bank_code=h.Bank_code;'''\n",
    "\n",
    "tic = time()\n",
    "mycursor.execute(query1)\n",
    "toc = time()\n",
    "print (toc - tic)\n",
    "\n",
    "mycursor.reset()\n",
    "tic = time()\n",
    "mycursor.execute(query2)\n",
    "toc = time()\n",
    "print (toc - tic)"
   ]
  },
  {
   "cell_type": "code",
   "execution_count": 17,
   "metadata": {},
   "outputs": [
    {
     "name": "stdout",
     "output_type": "stream",
     "text": [
      "0.006767749786376953\n",
      "0.0041959285736083984\n"
     ]
    }
   ],
   "source": [
    "mycursor.reset()\n",
    "\n",
    "query1='''select SQL_NO_CACHE c.Name, l.Bno,l.Amount from customer c \n",
    "CROSS join Availed_by a  CROSS JOIN Loan l where a.Cust_no=c.Customer_ID and a.Loan_no=l.Loan_id;'''\n",
    "\n",
    "query2='''SELECT SQL_NO_CACHE c.Name,l.Bno,l.Amount from ((SELECT loan_id,Bno,Amount from Loan) l \n",
    "INNER join (SELECT cust_no,loan_no from Availed_by) a on l.loan_id=a.loan_no \n",
    "INNER JOIN (SELECT Customer_ID, Name from customer) c on c.Customer_ID=a.cust_no);'''\n",
    "\n",
    "\n",
    "tic = time()\n",
    "mycursor.execute(query1)\n",
    "toc = time()\n",
    "print (toc - tic)\n",
    "\n",
    "mycursor.reset()\n",
    "tic = time()\n",
    "mycursor.execute(query2)\n",
    "toc = time()\n",
    "print (toc - tic)"
   ]
  },
  {
   "cell_type": "code",
   "execution_count": 24,
   "metadata": {},
   "outputs": [
    {
     "name": "stdout",
     "output_type": "stream",
     "text": [
      "0.0072896480560302734\n",
      "0.0029838085174560547\n"
     ]
    }
   ],
   "source": [
    "mycursor.reset()\n",
    "\n",
    "query1='''select SQL_NO_CACHE a.Account_No, a.Balance,c.Name,c.Phone_Number, h.Acc_No,h.Cust_no from Account a \n",
    "CROSS JOIN Hold_by h CROSS JOIN customer c where h.Cust_no=c.Customer_ID and a.Account_No=h.Acc_No;'''\n",
    "\n",
    "query2='''SELECT SQL_NO_CACHE a.Account_No,a.Balance,c.Name,c.Phone_Number,h.Acc_no,h.cust_no from\n",
    "((select Customer_ID, Name,Phone_Number from customer) c \n",
    "INNER JOIN (SELECT Acc_no, cust_no from Hold_by) h on c.Customer_ID=h.cust_no) \n",
    "INNER JOIN (select Account_No,Balance from Account) a on a.Account_No=h.Acc_no;'''\n",
    "\n",
    "\n",
    "tic = time()\n",
    "mycursor.execute(query1)\n",
    "toc = time()\n",
    "print (toc - tic)\n",
    "\n",
    "mycursor.reset()\n",
    "tic = time()\n",
    "mycursor.execute(query2)\n",
    "toc = time()\n",
    "print (toc - tic)"
   ]
  },
  {
   "cell_type": "code",
   "execution_count": null,
   "metadata": {},
   "outputs": [],
   "source": []
  },
  {
   "cell_type": "code",
   "execution_count": null,
   "metadata": {},
   "outputs": [],
   "source": []
  },
  {
   "cell_type": "code",
   "execution_count": 67,
   "metadata": {},
   "outputs": [
    {
     "name": "stdout",
     "output_type": "stream",
     "text": [
      "0.001993757537299647\n"
     ]
    }
   ],
   "source": [
    "mycursor.reset()\n",
    "tic = time()\n",
    "mycursor.execute(\"CALL query_1();\")\n",
    "toc = time()\n",
    "print (tic-toc)"
   ]
  },
  {
   "cell_type": "code",
   "execution_count": 32,
   "metadata": {},
   "outputs": [
    {
     "name": "stdout",
     "output_type": "stream",
     "text": [
      "0.003154277801513672\n"
     ]
    }
   ],
   "source": [
    "mycursor.reset()\n",
    "tic = time()\n",
    "mycursor.execute(\"CALL query_2();\")\n",
    "toc = time()\n",
    "print (toc - tic)"
   ]
  },
  {
   "cell_type": "code",
   "execution_count": 68,
   "metadata": {},
   "outputs": [
    {
     "name": "stdout",
     "output_type": "stream",
     "text": [
      "0.0023899925661229615\n"
     ]
    }
   ],
   "source": [
    "mycursor.reset()\n",
    "tic = time()\n",
    "mycursor.execute(\"CALL query_3();\")\n",
    "toc = time()\n",
    "print (toc - tic)"
   ]
  },
  {
   "cell_type": "code",
   "execution_count": null,
   "metadata": {},
   "outputs": [],
   "source": []
  },
  {
   "cell_type": "code",
   "execution_count": null,
   "metadata": {},
   "outputs": [],
   "source": []
  },
  {
   "cell_type": "code",
   "execution_count": 36,
   "metadata": {},
   "outputs": [
    {
     "name": "stdout",
     "output_type": "stream",
     "text": [
      "0.002511262893676758\n"
     ]
    }
   ],
   "source": [
    "mycursor.reset()\n",
    "\n",
    "query1='''select * from bank b CROSS JOIN branch h CROSS join Account a where b.Bank_code=h.Bank_code and a.Bno=h.Branch_id;'''\n",
    "\n",
    "tic = time()\n",
    "mycursor.execute(query1)\n",
    "toc = time()\n",
    "print (toc - tic)"
   ]
  },
  {
   "cell_type": "code",
   "execution_count": 53,
   "metadata": {},
   "outputs": [
    {
     "name": "stdout",
     "output_type": "stream",
     "text": [
      "0.005319118499755859\n"
     ]
    }
   ],
   "source": [
    "mycursor.reset()\n",
    "\n",
    "query1='''select SQL_NO_CACHE c.Name, l.Bno,l.Amount from customer c \n",
    "CROSS join Availed_by a  CROSS JOIN Loan l where a.Cust_no=c.Customer_ID and a.Loan_no=l.Loan_id;'''\n",
    "\n",
    "tic = time()\n",
    "mycursor.execute(query1)\n",
    "toc = time()\n",
    "print (toc - tic)"
   ]
  },
  {
   "cell_type": "code",
   "execution_count": 48,
   "metadata": {},
   "outputs": [
    {
     "name": "stdout",
     "output_type": "stream",
     "text": [
      "0.0012979507446289062\n"
     ]
    }
   ],
   "source": [
    "mycursor.reset()\n",
    "\n",
    "query1='''select SQL_NO_CACHE a.Account_No, a.Balance,c.Name,c.Phone_Number, h.Acc_No,h.Cust_no from Account a \n",
    "CROSS JOIN Hold_by h CROSS JOIN customer c where h.Cust_no=c.Customer_ID and a.Account_No=h.Acc_No;'''\n",
    "\n",
    "tic = time()\n",
    "mycursor.execute(query1)\n",
    "toc = time()\n",
    "print (toc - tic)"
   ]
  },
  {
   "cell_type": "code",
   "execution_count": null,
   "metadata": {},
   "outputs": [],
   "source": []
  }
 ],
 "metadata": {
  "kernelspec": {
   "display_name": "Python 3",
   "language": "python",
   "name": "python3"
  },
  "language_info": {
   "codemirror_mode": {
    "name": "ipython",
    "version": 3
   },
   "file_extension": ".py",
   "mimetype": "text/x-python",
   "name": "python",
   "nbconvert_exporter": "python",
   "pygments_lexer": "ipython3",
   "version": "3.8.3"
  }
 },
 "nbformat": 4,
 "nbformat_minor": 4
}
