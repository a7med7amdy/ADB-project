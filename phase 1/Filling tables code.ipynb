{
 "cells": [
  {
   "cell_type": "code",
   "execution_count": 33,
   "metadata": {},
   "outputs": [],
   "source": [
    "import mysql.connector\n",
    "\n",
    "mydb = mysql.connector.connect(\n",
    "  host=\"localhost\",\n",
    "  user=\"root\",\n",
    "  password=\"\",\n",
    "  database=\"Testing_project\"\n",
    ")\n",
    "\n",
    "#mycursor=mydb.cursor(\"show databases\")\n",
    "# for i in mycursor:\n",
    "#     print(i)\n",
    "mycursor=mydb.cursor()\n",
    "#mycursor.execute(\"show databases\")\n",
    "#mycursor.execute(\"insert into bank (Bank_code,Address,Name) values (1,'fdfd54','ajkgg'),(2,'fdfd54','ajkgg'),(3,'fdfd54','ajkgg')\")\n",
    "#mydb.commit()\n",
    "#for i in mycursor:\n",
    " #    print(i)\n",
    "\n",
    "#--------------- bank table insertion ---------------------------\n",
    "query=\"insert into bank (Bank_code,Address,Name) values \"\n",
    "for i in range(1,1000001):\n",
    "    query+=\"(\"+str(i)+\", 'cairo,street \"+str(i)+\"', 'bank_\"+str(i)+\"')\"\n",
    "    if i!=1000000:\n",
    "        query+=\",\"\n",
    "mycursor.execute(query)\n",
    "mydb.commit()\n"
   ]
  },
  {
   "cell_type": "code",
   "execution_count": 39,
   "metadata": {},
   "outputs": [],
   "source": [
    "#--------------- branch table insertion ---------------------------\n",
    "query=\"insert into branch values \"\n",
    "for i in range(1,1000001):\n",
    "    query+=\"(\"+str(i)+\", 'branch_\"+str(i)+\"', 'cairo,street \"+str(i)+\"',\"+str(i)+\")\"\n",
    "    if i!=1000000:\n",
    "        query+=\",\"\n",
    "mycursor.execute(query)\n",
    "mydb.commit()\n",
    "#print(query)"
   ]
  },
  {
   "cell_type": "code",
   "execution_count": 46,
   "metadata": {},
   "outputs": [],
   "source": [
    "#--------------- Loan table insertion ---------------------------\n",
    "query=\"insert into Loan values \"\n",
    "for i in range(1,1000001):\n",
    "    query+=\"(\"+str(i)+\", \"+str(i%2)+\", \"+str(i)+\", \"+str(i)+\")\"\n",
    "    if i!=1000000:\n",
    "        query+=\",\"\n",
    "mycursor.execute(query)\n",
    "mydb.commit()\n",
    "#print(query)"
   ]
  },
  {
   "cell_type": "code",
   "execution_count": 48,
   "metadata": {},
   "outputs": [],
   "source": [
    "#--------------- Account table insertion ---------------------------\n",
    "query=\"insert into Account values \"\n",
    "for i in range(1,1000001):\n",
    "    query+=\"(\"+str(i)+\", \"+str(i%2)+\", \"+str(i)+\", \"+str(i)+\")\"\n",
    "    if i!=1000000:\n",
    "        query+=\",\"\n",
    "mycursor.execute(query)\n",
    "mydb.commit()\n",
    "#print(query)"
   ]
  },
  {
   "cell_type": "code",
   "execution_count": 54,
   "metadata": {},
   "outputs": [],
   "source": [
    "#--------------- customer table insertion ---------------------------\n",
    "query=\"insert into customer values \"\n",
    "for i in range(1,1000001):\n",
    "    query+=\"(\"+str(i)+\", 'Ahmed_\"+str(i)+\"',\"+str(i)+\", 'Giza,street\"+str(i)+\"')\"\n",
    "    if i!=1000000:\n",
    "        query+=\",\"\n",
    "mycursor.execute(query)\n",
    "mydb.commit()\n",
    "#print(query)"
   ]
  },
  {
   "cell_type": "code",
   "execution_count": 56,
   "metadata": {},
   "outputs": [],
   "source": [
    "#--------------- Hold_by table insertion ---------------------------\n",
    "query=\"insert into Hold_by values \"\n",
    "for i in range(1,1000001):\n",
    "    query+=\"(\"+str(i)+\", \"+str(i)+\")\"\n",
    "    if i!=1000000:\n",
    "        query+=\",\"\n",
    "mycursor.execute(query)\n",
    "mydb.commit()\n",
    "#print(query)"
   ]
  },
  {
   "cell_type": "code",
   "execution_count": null,
   "metadata": {},
   "outputs": [],
   "source": []
  }
 ],
 "metadata": {
  "kernelspec": {
   "display_name": "Python 3",
   "language": "python",
   "name": "python3"
  },
  "language_info": {
   "codemirror_mode": {
    "name": "ipython",
    "version": 3
   },
   "file_extension": ".py",
   "mimetype": "text/x-python",
   "name": "python",
   "nbconvert_exporter": "python",
   "pygments_lexer": "ipython3",
   "version": "3.8.3"
  }
 },
 "nbformat": 4,
 "nbformat_minor": 4
}
